{
  "nbformat": 4,
  "nbformat_minor": 0,
  "metadata": {
    "colab": {
      "provenance": [],
      "authorship_tag": "ABX9TyOs1agV0/eBFjlCZquB5XYN",
      "include_colab_link": true
    },
    "kernelspec": {
      "name": "python3",
      "display_name": "Python 3"
    },
    "language_info": {
      "name": "python"
    }
  },
  "cells": [
    {
      "cell_type": "markdown",
      "metadata": {
        "id": "view-in-github",
        "colab_type": "text"
      },
      "source": [
        "<a href=\"https://colab.research.google.com/github/FeViggiano/Projeto_Integrador_III/blob/main/ProjetoIntegradorIII_Python_17.ipynb\" target=\"_parent\"><img src=\"https://colab.research.google.com/assets/colab-badge.svg\" alt=\"Open In Colab\"/></a>"
      ]
    },
    {
      "cell_type": "markdown",
      "source": [
        "Aluno: Fernando Cardoso Viggiano\n",
        "\n",
        "Curso: Big Data para Negócios (3° Semestre)\n",
        "\n",
        "Matéria: Projeto Integrador III\n",
        "\n",
        "Atividade: Exercício 17"
      ],
      "metadata": {
        "id": "p-WwWNjg-Ls2"
      }
    },
    {
      "cell_type": "code",
      "source": [
        "# 17. Um programa para gerenciar os saques de um caixa eletrônico deve possuir algum\n",
        "# mecanismo para decidir o número de notas de cada valor que deve ser disponibilizado\n",
        "# para o cliente que realizou o saque. Um possível critério seria o da \"distribuição ótima\"\n",
        "# no sentido de que as notas de menor valor fossem distribuídas em número mínimo\n",
        "# possível. Por exemplo, se a quantia solicitada fosse R$ 87,00, o programa deveria indicar\n",
        "# uma nota de R$ 50,00, três notas de R$ 10,00, uma nota de R$ 5,00 e duas notas de R$\n",
        "# 1,00. Escreva um programa que receba o valor da quantia solicitada e retorne a\n",
        "# distribuição das notas de acordo com o critério da distribuição ótima (considere existir\n",
        "# notas de R$1,00; R$2,00; R$5,00; R$10,00; R$20,00; R$50,00 e R$100,00).\n",
        "\n",
        "saque = int(input(\"Digite o valor do saque: \"))\n",
        "notas_banco = [100, 50, 20, 10, 5, 2, 1]\n",
        "notas_saque = [0, 0, 0, 0, 0, 0, 0]\n",
        "i = 0 \n",
        "\n",
        "while saque != 0:\n",
        "    if saque >= notas_banco[i]:\n",
        "        notas_saque[i] += 1\n",
        "        saque -= notas_banco[i]\n",
        "    else:\n",
        "        i += 1\n",
        "\n",
        "for i in range(len(notas_banco)):\n",
        "    if notas_saque[i] != 0:\n",
        "        print(f\"{notas_saque[i]} notas de R${notas_banco[i]:.2f}\")\n"
      ],
      "metadata": {
        "colab": {
          "base_uri": "https://localhost:8080/"
        },
        "id": "IPnshKj6ANom",
        "outputId": "80c107c3-4bd9-445f-c7aa-18e40557c13e"
      },
      "execution_count": 3,
      "outputs": [
        {
          "output_type": "stream",
          "name": "stdout",
          "text": [
            "Digite o valor do saque: 102\n",
            "1 notas de R$100.00\n",
            "1 notas de R$2.00\n"
          ]
        }
      ]
    }
  ]
}