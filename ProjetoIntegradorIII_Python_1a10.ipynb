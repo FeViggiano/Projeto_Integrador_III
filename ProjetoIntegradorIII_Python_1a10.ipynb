{
  "nbformat": 4,
  "nbformat_minor": 0,
  "metadata": {
    "colab": {
      "provenance": [],
      "authorship_tag": "ABX9TyMouc1ULPD12qiwxKqI24Av",
      "include_colab_link": true
    },
    "kernelspec": {
      "name": "python3",
      "display_name": "Python 3"
    },
    "language_info": {
      "name": "python"
    }
  },
  "cells": [
    {
      "cell_type": "markdown",
      "metadata": {
        "id": "view-in-github",
        "colab_type": "text"
      },
      "source": [
        "<a href=\"https://colab.research.google.com/github/FeViggiano/Projeto_Integrador_III/blob/main/ProjetoIntegradorIII_Python_1a10.ipynb\" target=\"_parent\"><img src=\"https://colab.research.google.com/assets/colab-badge.svg\" alt=\"Open In Colab\"/></a>"
      ]
    },
    {
      "cell_type": "markdown",
      "source": [
        "Aluno: Fernando Cardoso Viggiano\n",
        "\n",
        "Curso: Big Data para Negócios (3° Semestre)\n",
        "\n",
        "Matéria: Projeto Integrador III\n",
        "\n",
        "Atividade: Exercícios 1 ao 10"
      ],
      "metadata": {
        "id": "945chKZBVya7"
      }
    },
    {
      "cell_type": "code",
      "execution_count": 1,
      "metadata": {
        "colab": {
          "base_uri": "https://localhost:8080/"
        },
        "id": "M3jMbCai_ma1",
        "outputId": "3052a339-95a8-404e-e4d6-0215cc0b0622"
      },
      "outputs": [
        {
          "output_type": "stream",
          "name": "stdout",
          "text": [
            "Digite qual a base do retângulo: 4\n",
            "Digite qual a altura do retângulo: 6\n",
            "A área do retângulo é: 24.0\n",
            "O perímetro do retângulo é: 20.0\n"
          ]
        }
      ],
      "source": [
        "#1. Dado o tamanho da base e da altura de um retângulo, calcular a sua área e o seu perímetro.\n",
        "\n",
        "base_ret = float(input('Digite qual a base do retângulo: '))\n",
        "altura_ret = float(input('Digite qual a altura do retângulo: '))\n",
        "\n",
        "area_ret = base_ret * altura_ret\n",
        "perimetro_ret = (base_ret * 2) + (altura_ret * 2)\n",
        "\n",
        "print(f'A área do retângulo é: {area_ret}')\n",
        "print(f'O perímetro do retângulo é: {perimetro_ret}')\n"
      ]
    },
    {
      "cell_type": "code",
      "source": [
        "# 2. Dado o tamanho do lado de um quadrado, calcular a área e o perímetro do mesmo.\n",
        "\n",
        "lado_qua = float(input('Digite qual o lado do quadrado: '))\n",
        "\n",
        "area_qua = lado_qua * lado_qua\n",
        "perimetro_qua = lado_qua * 4\n",
        "\n",
        "print(f'A área do retângulo é: {area_qua}')\n",
        "print(f'O perímetro do retângulo é: {perimetro_qua}')\n"
      ],
      "metadata": {
        "colab": {
          "base_uri": "https://localhost:8080/"
        },
        "id": "9cRy6F3s_v8Q",
        "outputId": "af163e41-6088-4449-9534-42fc75612d37"
      },
      "execution_count": 3,
      "outputs": [
        {
          "output_type": "stream",
          "name": "stdout",
          "text": [
            "Digite qual o lado do quadrado: 3\n",
            "A área do retângulo é: 9.0\n",
            "O perímetro do retângulo é: 12.0\n"
          ]
        }
      ]
    },
    {
      "cell_type": "code",
      "source": [
        "#3. Dado o tamanho do raio de uma circunferência, calcular a área e o perímetro da mesma.\n",
        "\n",
        "raio_circun = float(input('Digite o valor do raio da circunferência: '))\n",
        "\n",
        "area_circun = 3.14 * (raio_circun ** 2)\n",
        "\n",
        "perimetro_circun = 2 * 3.14 * raio_circun\n",
        "\n",
        "print (f'Dado o raio {raio_circun} da circunferência, a área será de {area_circun} e o perímetro {perimetro_circun}')"
      ],
      "metadata": {
        "colab": {
          "base_uri": "https://localhost:8080/"
        },
        "id": "dr0pd4dNAlMr",
        "outputId": "7685764c-5ba2-4846-8cce-8cb0dfa24ee7"
      },
      "execution_count": 37,
      "outputs": [
        {
          "output_type": "stream",
          "name": "stdout",
          "text": [
            "Digite o valor do raio da circunferência: 34\n",
            "Dado o raio 34.0 da circunferência, a área será de 3629.84 e o perímetro 213.52\n"
          ]
        }
      ]
    },
    {
      "cell_type": "code",
      "source": [
        "#4. Dado os três lados de um triângulo determinar o perímetro do mesmo.\n",
        "\n",
        "lado1_tri = float(input('Qual o valor do primeiro lado do triângulo: ')) \n",
        "lado2_tri = float(input('Qual o valor do segundo lado do triângulo: '))\n",
        "lado3_tri = float(input('Qual o valor do terceiro lado do triângulo: '))\n",
        "\n",
        "perimetro_tri = lado1_tri + lado2_tri + lado3_tri\n",
        "\n",
        "print(f'O perímetro do triângulo é: {perimetro_tri}')"
      ],
      "metadata": {
        "colab": {
          "base_uri": "https://localhost:8080/"
        },
        "id": "2y7naVhnBhhj",
        "outputId": "2ad73a27-3296-46c1-99f7-548972b45525"
      },
      "execution_count": 4,
      "outputs": [
        {
          "output_type": "stream",
          "name": "stdout",
          "text": [
            "Qual o valor do primeiro lado do triângulo: 3\n",
            "Qual o valor do segundo lado do triângulo: 5\n",
            "Qual o valor do terceiro lado do triângulo: 9\n",
            "O perímetro do triângulo é: 17.0\n"
          ]
        }
      ]
    },
    {
      "cell_type": "code",
      "source": [
        "#5. Ler um número inteiro e exibir o seu sucessor.\n",
        "num_inteiro = int(input('Qual o número inteiro: '))\n",
        "\n",
        "num_sucessor = num_inteiro + 1\n",
        "\n",
        "print(f'O número inteiro digitado foi {num_inteiro}, seu sucessor é o {num_sucessor}')"
      ],
      "metadata": {
        "colab": {
          "base_uri": "https://localhost:8080/"
        },
        "id": "R9Dnk2zABusx",
        "outputId": "0b23b511-9d31-4d2d-c95a-9d63fdc69126"
      },
      "execution_count": 5,
      "outputs": [
        {
          "output_type": "stream",
          "name": "stdout",
          "text": [
            "Qual o número inteiro: 4\n",
            "O número inteiro digitado foi 4, seu sucessor é o 5\n"
          ]
        }
      ]
    },
    {
      "cell_type": "code",
      "source": [
        "#6. Ler dois números inteiros e exibir o quociente e o resto da divisão inteira entre eles.\n",
        "\n",
        "num_int1 = int(input('Qual o primeiro número inteiro: '))\n",
        "num_int2 = int(input('Qual o segundo número inteiro: '))\n",
        "\n",
        "quociente = num_int1 // num_int2\n",
        "\n",
        "resto_div = num_int1 % num_int2\n",
        "\n",
        "print(f'O quociente da divisão entre o {num_int1} e o {num_int2} é {quociente}. O resto dessa mesma divisão é {resto_div}')"
      ],
      "metadata": {
        "colab": {
          "base_uri": "https://localhost:8080/"
        },
        "id": "q1vL0KpYCZ5X",
        "outputId": "1e04bac5-2315-4c46-8b31-ab1530e254b1"
      },
      "execution_count": 8,
      "outputs": [
        {
          "output_type": "stream",
          "name": "stdout",
          "text": [
            "Qual o primeiro número inteiro: 7\n",
            "Qual o segundo número inteiro: 3\n",
            "O quociente da divisão entre o 7 e o 3 é 2. O resto dessa mesma divisão é 1\n"
          ]
        }
      ]
    },
    {
      "cell_type": "code",
      "source": [
        "#7. Solicitar a idade de uma pessoa em dias e informar na tela a idade em anos, meses e dias.\n",
        "\n",
        "idade_dias = int(input('Qual a sua idade em dias: '))\n",
        "\n",
        "idade_anos = idade_dias // 365\n",
        "\n",
        "idade_meses = idade_dias // 30\n",
        "\n",
        "print(f'A idade da pessoa em anos é {idade_anos}, em meses é  aproximadamente {idade_meses} e em dias é {idade_dias}')\n"
      ],
      "metadata": {
        "colab": {
          "base_uri": "https://localhost:8080/"
        },
        "id": "tpR-KYr7JspF",
        "outputId": "00ccca9a-e168-4aac-a052-df6c13a28352"
      },
      "execution_count": 11,
      "outputs": [
        {
          "output_type": "stream",
          "name": "stdout",
          "text": [
            "Qual o primeiro número inteiro: 780\n",
            "A idade da pessoa em anos é 2, em meses é 26 e em dias é 780\n"
          ]
        }
      ]
    },
    {
      "cell_type": "code",
      "source": [
        "#8. Dado que a fórmula para conversão de Fahrenheit para Celsius é C = 5/9 (F – 32), leu um\n",
        "#valor de temperatura em Fahrenheit e exibi-lo em Celsius\n",
        "\n",
        "F = float(input('Qual a temperatura em Fahrenheit: '))\n",
        "\n",
        "C = 5/9 * (F - 32)\n",
        "\n",
        "# O {C:.2f} é utilizado para deixar apenas duas casas depois da vírgula\n",
        "print(f'A temperatura em Fahrenheit é {F}, logo, em Graus Celsius ela fica em {C:.2f}°')"
      ],
      "metadata": {
        "colab": {
          "base_uri": "https://localhost:8080/"
        },
        "id": "XcG78NnJJ9ZC",
        "outputId": "76787177-9dbd-4f98-d19c-44811c6131b3"
      },
      "execution_count": 28,
      "outputs": [
        {
          "output_type": "stream",
          "name": "stdout",
          "text": [
            "Qual a temperatura em Fahrenheit: 72\n",
            "A temperatura em Fahrenheit é 72.0, logo, em Graus Celsius ela fica em 22.22°\n"
          ]
        }
      ]
    },
    {
      "cell_type": "code",
      "source": [
        "#9. Faça um algoritmo que calcule e apresente o valor do volume de uma lata de óleo, dado\n",
        "#seu raio e sua altura.\n",
        "\n",
        "# VOLUME = 3.14159 * R2 * ALTURA\n",
        "\n",
        "raio = float(input('Qual o raio da lata de óleo: '))\n",
        "altura = float(input('Qual a altura da lata de óleo: '))\n",
        "\n",
        "volume = 3.14 * (raio ** 2) * altura\n",
        "\n",
        "print(f'A partir do raio {raio} e da altura {altura}, é possível dizer que o volume da lata de óleo é {volume}')"
      ],
      "metadata": {
        "colab": {
          "base_uri": "https://localhost:8080/"
        },
        "id": "IWAMGoksJ9SA",
        "outputId": "a89ffe10-5a4a-4265-e673-3f96b94cf538"
      },
      "execution_count": 29,
      "outputs": [
        {
          "output_type": "stream",
          "name": "stdout",
          "text": [
            "Qual o raio da lata de óleo: 4\n",
            "Qual a altura da lata de óleo: 8\n",
            "A partir do raio 4.0 e da altura 8.0, é possível dizer que o volume da lata de óleo é 401.92\n"
          ]
        }
      ]
    },
    {
      "cell_type": "code",
      "source": [
        "#10. Converter um inteiro informado menor que 32 para sua representação em binário\n",
        "\n",
        "numero = int(input('Digite o número: '))\n",
        "\n",
        "print(f\"O número digitado foi {numero}\")\n",
        "\n",
        "if numero > 32:\n",
        "  print('O número é maior que 32 ')\n",
        "elif numero < 0:\n",
        "  print('O número é menor que 0')\n",
        "else: \n",
        "  binario = []\n",
        "\n",
        "  while numero > 0:\n",
        "    binario.append(numero % 2)\n",
        "    numero //= 2\n",
        "\n",
        "  binario.reverse()\n",
        "\n",
        "  num_binario = \"\".join(str(d) for d in binario)\n",
        "  print(f\"Sua Representação binária é {num_binario}\")\n"
      ],
      "metadata": {
        "colab": {
          "base_uri": "https://localhost:8080/"
        },
        "id": "P-2PR9HnOyWK",
        "outputId": "f1109de7-39f8-45ce-aeff-e3cf2e0161b6"
      },
      "execution_count": 36,
      "outputs": [
        {
          "output_type": "stream",
          "name": "stdout",
          "text": [
            "Digite o número: 29\n",
            "O número digitado foi 29\n",
            "Sua Representação binária é 11101\n"
          ]
        }
      ]
    }
  ]
}