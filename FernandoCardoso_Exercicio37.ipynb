{
  "nbformat": 4,
  "nbformat_minor": 0,
  "metadata": {
    "colab": {
      "provenance": [],
      "authorship_tag": "ABX9TyNELh72wQCZbU4ZTkQnBz7p",
      "include_colab_link": true
    },
    "kernelspec": {
      "name": "python3",
      "display_name": "Python 3"
    },
    "language_info": {
      "name": "python"
    }
  },
  "cells": [
    {
      "cell_type": "markdown",
      "metadata": {
        "id": "view-in-github",
        "colab_type": "text"
      },
      "source": [
        "<a href=\"https://colab.research.google.com/github/FeViggiano/Projeto_Integrador_III/blob/main/FernandoCardoso_Exercicio37.ipynb\" target=\"_parent\"><img src=\"https://colab.research.google.com/assets/colab-badge.svg\" alt=\"Open In Colab\"/></a>"
      ]
    },
    {
      "cell_type": "markdown",
      "source": [
        "Aluno: Fernando Cardoso Viggiano\n",
        "\n",
        "Curso: Big Data para Negócios (3° Semestre)\n",
        "\n",
        "Matéria: Projeto Integrador III\n",
        "\n",
        "Atividade: Exercício 37"
      ],
      "metadata": {
        "id": "aVqJaBbEa-TO"
      }
    },
    {
      "cell_type": "code",
      "execution_count": 21,
      "metadata": {
        "colab": {
          "base_uri": "https://localhost:8080/"
        },
        "id": "YBRZils5a2s4",
        "outputId": "ced47645-c61f-4835-e23b-1c07adad77e6"
      },
      "outputs": [
        {
          "output_type": "stream",
          "name": "stdout",
          "text": [
            "Qual a área a ser pulverizada? 1200\n",
            "Digite o tipo de pulverização (1 - ervas daninhas; 2 - gafanhotos; 3 - broca;  4 - todos): 7\n",
            "Valor inválido, digite entre (1 - ervas daninhas; 2 - gafanhotos; 3 - broca;  4 - todos): \n",
            "Digite o tipo de pulverização (1 - ervas daninhas; 2 - gafanhotos; 3 - broca;  4 - todos): 3\n",
            "O tipo de pulverização será de broca, a área a ser pulverizada é de 1200.0 acres, o valor total será de R$ 153900.0\n"
          ]
        }
      ],
      "source": [
        "# Uma Cia de pulverização utiliza avião para pulverizar lavouras. Os custos de\n",
        "# pulverização dependem do tipo de praga e da área a ser contratada conforme a tabela:\n",
        "# Tipo 1 – ervas daninhas R$ 50,00 por acre;\n",
        "# Tipo 2 – gafanhotos R$ 100,00 por acre;\n",
        "# Tipo 3 – broca R$ 150,00 por acre;\n",
        "# Tipo 4 – todos acima R$ 250,00 por acre.\n",
        "# Se a área a ser pulverizada for superior a 1000 acres, o fazendeiro tem um desconto de\n",
        "# 5%. Em adição, qualquer fazendeiro cujo custo for maior do que R$ 750,00 tem um\n",
        "# desconto de 10% sobre o valor que ultrapassar os R$ 750,00. Caso ambos os descontos se\n",
        "# aplicam o da área é calculado antes. Fazer um algoritmo que leia: o tipo de pulverização\n",
        "# (1 a 4) e área a ser pulverizada; e imprima o valor a ser pago.\n",
        "\n",
        "area = float(input('Qual a área a ser pulverizada? '))\n",
        "\n",
        "# O usuário só pode digitar um valor inteiro entre 1 e 4\n",
        "while True:\n",
        "    pulve = int(input(\"Digite o tipo de pulverização (1 - ervas daninhas; 2 - gafanhotos; 3 - broca;  4 - todos): \"))\n",
        "    if pulve in [1, 2, 3, 4]:\n",
        "        break\n",
        "    else:\n",
        "        print(\"Valor inválido, digite entre (1 - ervas daninhas; 2 - gafanhotos; 3 - broca;  4 - todos): \")\n",
        "\n",
        "\n",
        "# erva_daninha = 50\n",
        "# gafanhoto = 100\n",
        "# broca = 150\n",
        "# todos = 250\n",
        "\n",
        "\n",
        "if pulve == 1:\n",
        "  valor1 = (area * 50)\n",
        "elif pulve == 2:\n",
        "  valor1 = (area * 100)\n",
        "elif pulve == 3:\n",
        "  valor1 = (area * 150)\n",
        "else:\n",
        "  valor1 = (area * 250)\n",
        "\n",
        "# Calculo de desconto, caso a área seja maior que 1000 acres\n",
        "if area > 1000:\n",
        "  valor1 = valor1 * 0.95\n",
        "\n",
        "# Calculo de desconto caso o valor seja maior que 750 reais.\n",
        "if valor1 > 750:\n",
        "  valor_final = valor1 * 0.9\n",
        "\n",
        "if pulve == 1:\n",
        "  print(f'O tipo de pulverização será de ervas daninhas, a área a ser pulverizada é de {area} acres, o valor total será de R$ {valor_final}')\n",
        "elif pulve == 2:\n",
        "  print(f'O tipo de pulverização será de ervas gafanhotos, a área a ser pulverizada é de {area} acres, o valor total será de R$ {valor_final}')\n",
        "elif pulve == 3:\n",
        "  print(f'O tipo de pulverização será de broca, a área a ser pulverizada é de {area} acres, o valor total será de R$ {valor_final}')\n",
        "else:\n",
        "  print(f'O tipo de pulverização será de ervas daninhas, gafanhotos e broca, a área a ser pulverizada é de {area} acres, o valor total será de R$ {valor_final}')\n",
        "\n"
      ]
    }
  ]
}